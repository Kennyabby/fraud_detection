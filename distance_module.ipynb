{
 "cells": [
  {
   "cell_type": "code",
   "execution_count": 2,
   "id": "e62f4628",
   "metadata": {},
   "outputs": [
    {
     "name": "stdout",
     "output_type": "stream",
     "text": [
      "534211.5970287429\n"
     ]
    }
   ],
   "source": [
    "\n",
    "from math import sqrt\n",
    "\n",
    "# This function computes the distance between any two given transactions of a user.\n",
    "# It accepts two parameters, 'transaction1' and 'transaction2', which are the transaction details of the user.\n",
    "def user_transaction_distance(transaction1, transaction2):\n",
    "    \n",
    "    # the x,y location of 'transaction1' is stored in the variables below.\n",
    "    transX1 = transaction1['x']\n",
    "    transY1 = transaction1['y']\n",
    "    \n",
    "    # the x,y location of 'transaction2' is stored in the variables below.\n",
    "    transX2 = transaction2['x']\n",
    "    transY2 = transaction2['y']\n",
    "    \n",
    "    # the location varibles above are stored in the 'trans_list' varible to form a list, for further examination.\n",
    "    trans_list = list(transX1)+list(transY1)+list(transX2)+list(transY2)\n",
    "    \n",
    "    # the varible below stores a boolean that determines if the location variables are numbers or not.\n",
    "    is_alpha = False\n",
    "    \n",
    "    # the for loop is used to set the 'is_alpha' variable to True if any of the string in the 'trans_list' is not a number.\n",
    "    for string in trans_list:\n",
    "        if string!='.' and string.isalpha():\n",
    "            is_alpha = True\n",
    "    \n",
    "    # if the 'is_alpha' variable remains False, the code below runs.\n",
    "    # The reason for doing this is to prevent any calculation error or program crash due to wrong input of parameters.\n",
    "    if not is_alpha:\n",
    "        \n",
    "        x1 = float(transX1)\n",
    "        y1 = float(transY1)\n",
    "        \n",
    "        x2 = float(transX2)\n",
    "        y2 = float(transY2)\n",
    "        \n",
    "        diff_x = x2 - x1\n",
    "        diff_y = y2 - y1\n",
    "        distance = sqrt(pow(diff_x, 2) + pow(diff_y, 2))\n",
    "        \n",
    "        # The distance is then returned as a float type after the successful calculations above.\n",
    "        return distance\n",
    "# print(user_transaction_distance({'x':'322','y':'429'},{'x':'372','y':'229'}))\n",
    "def transaction_distance(transaction1, transaction2):\n",
    "    \n",
    "    transX1 = transaction1['x']\n",
    "    transY1 = transaction1['y']\n",
    "    \n",
    "    transX2 = transaction2['x']\n",
    "    transY2 = transaction2['y']\n",
    "    trans_list = list(transX1)+list(transY1)+list(transX2)+list(transY2)\n",
    "    is_alpha = False\n",
    "        \n",
    "    for string in trans_list:\n",
    "        if string!='.' and string.isalpha():\n",
    "            is_alpha = True\n",
    "            \n",
    "    if not is_alpha:\n",
    "        \n",
    "        x1 = float(transX1)\n",
    "        y1 = float(transY1)\n",
    "        \n",
    "        x2 = float(transX2)\n",
    "        y2 = float(transY2)\n",
    "        \n",
    "        diff_x = x2 - x1\n",
    "        diff_y = y2 - y1\n",
    "        distance = sqrt(pow(diff_x, 2) + pow(diff_y, 2))\n",
    "            \n",
    "        return distance\n",
    "\n",
    "#(transaction1,transaction2) = [{'user_id': '30', 'transaction_id': '501096', 'description': 'HOTEL PLEASURE', 'amount': '760.18', 'x': '620.0', 'y': '561.0', 'fraudulent': 'true'}, {'user_id': '30', 'transaction_id': '501097', 'description': 'SCTY XXX', 'amount': '815.35', 'x': '535.0', 'y': '649.0', 'fraudulent': 'true'}]"
   ]
  },
  {
   "cell_type": "code",
   "execution_count": null,
   "id": "a193cb54",
   "metadata": {},
   "outputs": [],
   "source": []
  }
 ],
 "metadata": {
  "kernelspec": {
   "display_name": "Python 3 (ipykernel)",
   "language": "python",
   "name": "python3"
  },
  "language_info": {
   "codemirror_mode": {
    "name": "ipython",
    "version": 3
   },
   "file_extension": ".py",
   "mimetype": "text/x-python",
   "name": "python",
   "nbconvert_exporter": "python",
   "pygments_lexer": "ipython3",
   "version": "3.9.7"
  }
 },
 "nbformat": 4,
 "nbformat_minor": 5
}
